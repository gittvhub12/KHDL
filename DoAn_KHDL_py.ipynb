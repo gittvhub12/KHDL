{
  "cells": [
    {
      "cell_type": "markdown",
      "metadata": {
        "id": "tP0roNRlr6EX"
      },
      "source": [
        "# Đồ Án Cuối Kì : Khoa Học Dữ Liệu ( The Global 2000 - 2022 )\n",
        "Nhóm sinh viên thực hiện : \n",
        "\n",
        "21424068 - Nguyễn Nguyên Văn\n",
        "\n",
        "21424004 - Nguyễn Thành Đạt\n",
        "\n",
        "21424061 - Nguyễn Minh Trọng Trí\n"
      ]
    },
    {
      "cell_type": "markdown",
      "metadata": {
        "id": "xqlhSpHCsnyl"
      },
      "source": [
        "### Đầu tiên ta thêm các thư viện cũng như import các thư viện cần thiết"
      ]
    },
    {
      "cell_type": "code",
      "execution_count": null,
      "metadata": {
        "colab": {
          "base_uri": "https://localhost:8080/"
        },
        "id": "ySPhUyY5EYv3",
        "outputId": "6755d7f8-21d9-4a43-dbbb-8da3e1f40fef"
      },
      "outputs": [
        {
          "name": "stdout",
          "output_type": "stream",
          "text": [
            "Looking in indexes: https://pypi.org/simple, https://us-python.pkg.dev/colab-wheels/public/simple/\n",
            "Requirement already satisfied: scrapy in /usr/local/lib/python3.10/dist-packages (2.8.0)\n",
            "Requirement already satisfied: queuelib>=1.4.2 in /usr/local/lib/python3.10/dist-packages (from scrapy) (1.6.2)\n",
            "Requirement already satisfied: cssselect>=0.9.1 in /usr/local/lib/python3.10/dist-packages (from scrapy) (1.2.0)\n",
            "Requirement already satisfied: lxml>=4.3.0 in /usr/local/lib/python3.10/dist-packages (from scrapy) (4.9.2)\n",
            "Requirement already satisfied: service-identity>=18.1.0 in /usr/local/lib/python3.10/dist-packages (from scrapy) (21.1.0)\n",
            "Requirement already satisfied: pyOpenSSL>=21.0.0 in /usr/local/lib/python3.10/dist-packages (from scrapy) (23.1.1)\n",
            "Requirement already satisfied: zope.interface>=5.1.0 in /usr/local/lib/python3.10/dist-packages (from scrapy) (6.0)\n",
            "Requirement already satisfied: itemadapter>=0.1.0 in /usr/local/lib/python3.10/dist-packages (from scrapy) (0.8.0)\n",
            "Requirement already satisfied: itemloaders>=1.0.1 in /usr/local/lib/python3.10/dist-packages (from scrapy) (1.1.0)\n",
            "Requirement already satisfied: w3lib>=1.17.0 in /usr/local/lib/python3.10/dist-packages (from scrapy) (2.1.1)\n",
            "Requirement already satisfied: setuptools in /usr/local/lib/python3.10/dist-packages (from scrapy) (67.7.2)\n",
            "Requirement already satisfied: PyDispatcher>=2.0.5 in /usr/local/lib/python3.10/dist-packages (from scrapy) (2.0.7)\n",
            "Requirement already satisfied: cryptography>=3.4.6 in /usr/local/lib/python3.10/dist-packages (from scrapy) (40.0.2)\n",
            "Requirement already satisfied: protego>=0.1.15 in /usr/local/lib/python3.10/dist-packages (from scrapy) (0.2.1)\n",
            "Requirement already satisfied: packaging in /usr/local/lib/python3.10/dist-packages (from scrapy) (23.1)\n",
            "Requirement already satisfied: tldextract in /usr/local/lib/python3.10/dist-packages (from scrapy) (3.4.1)\n",
            "Requirement already satisfied: Twisted>=18.9.0 in /usr/local/lib/python3.10/dist-packages (from scrapy) (22.10.0)\n",
            "Requirement already satisfied: parsel>=1.5.0 in /usr/local/lib/python3.10/dist-packages (from scrapy) (1.8.1)\n",
            "Requirement already satisfied: cffi>=1.12 in /usr/local/lib/python3.10/dist-packages (from cryptography>=3.4.6->scrapy) (1.15.1)\n",
            "Requirement already satisfied: jmespath>=0.9.5 in /usr/local/lib/python3.10/dist-packages (from itemloaders>=1.0.1->scrapy) (1.0.1)\n",
            "Requirement already satisfied: six in /usr/local/lib/python3.10/dist-packages (from protego>=0.1.15->scrapy) (1.16.0)\n",
            "Requirement already satisfied: attrs>=19.1.0 in /usr/local/lib/python3.10/dist-packages (from service-identity>=18.1.0->scrapy) (23.1.0)\n",
            "Requirement already satisfied: pyasn1-modules in /usr/local/lib/python3.10/dist-packages (from service-identity>=18.1.0->scrapy) (0.3.0)\n",
            "Requirement already satisfied: pyasn1 in /usr/local/lib/python3.10/dist-packages (from service-identity>=18.1.0->scrapy) (0.5.0)\n",
            "Requirement already satisfied: hyperlink>=17.1.1 in /usr/local/lib/python3.10/dist-packages (from Twisted>=18.9.0->scrapy) (21.0.0)\n",
            "Requirement already satisfied: typing-extensions>=3.6.5 in /usr/local/lib/python3.10/dist-packages (from Twisted>=18.9.0->scrapy) (4.5.0)\n",
            "Requirement already satisfied: constantly>=15.1 in /usr/local/lib/python3.10/dist-packages (from Twisted>=18.9.0->scrapy) (15.1.0)\n",
            "Requirement already satisfied: incremental>=21.3.0 in /usr/local/lib/python3.10/dist-packages (from Twisted>=18.9.0->scrapy) (22.10.0)\n",
            "Requirement already satisfied: Automat>=0.8.0 in /usr/local/lib/python3.10/dist-packages (from Twisted>=18.9.0->scrapy) (22.10.0)\n",
            "Requirement already satisfied: idna in /usr/local/lib/python3.10/dist-packages (from tldextract->scrapy) (3.4)\n",
            "Requirement already satisfied: requests>=2.1.0 in /usr/local/lib/python3.10/dist-packages (from tldextract->scrapy) (2.27.1)\n",
            "Requirement already satisfied: requests-file>=1.4 in /usr/local/lib/python3.10/dist-packages (from tldextract->scrapy) (1.5.1)\n",
            "Requirement already satisfied: filelock>=3.0.8 in /usr/local/lib/python3.10/dist-packages (from tldextract->scrapy) (3.12.0)\n",
            "Requirement already satisfied: pycparser in /usr/local/lib/python3.10/dist-packages (from cffi>=1.12->cryptography>=3.4.6->scrapy) (2.21)\n",
            "Requirement already satisfied: certifi>=2017.4.17 in /usr/local/lib/python3.10/dist-packages (from requests>=2.1.0->tldextract->scrapy) (2022.12.7)\n",
            "Requirement already satisfied: charset-normalizer~=2.0.0 in /usr/local/lib/python3.10/dist-packages (from requests>=2.1.0->tldextract->scrapy) (2.0.12)\n",
            "Requirement already satisfied: urllib3<1.27,>=1.21.1 in /usr/local/lib/python3.10/dist-packages (from requests>=2.1.0->tldextract->scrapy) (1.26.15)\n",
            "Looking in indexes: https://pypi.org/simple, https://us-python.pkg.dev/colab-wheels/public/simple/\n",
            "Requirement already satisfied: spider3 in /usr/local/lib/python3.10/dist-packages (1.0.2)\n"
          ]
        }
      ],
      "source": [
        "!pip install scrapy\n",
        "!pip install spider3"
      ]
    },
    {
      "cell_type": "code",
      "execution_count": 6,
      "metadata": {
        "id": "eqmYef6CEeka"
      },
      "outputs": [],
      "source": [
        "import json\n",
        "import re\n",
        "import pandas as pd\n",
        "# import scrapy\n",
        "import numpy as np\n",
        "import matplotlib.pyplot as plt\n",
        "import plotly.express as px\n",
        "# from scrapy.selector import Selector"
      ]
    },
    {
      "cell_type": "markdown",
      "metadata": {
        "id": "xppA9dt1tMsd"
      },
      "source": [
        "Như mọi người cũng đã biết nhu cầu toàn cầu hoá kinh tế là hết sức quan trọng đối với các công ty đa quốc gia, tập đoàn lớn. Vậy các công ty, <b>các tập đoàn đó là gì?</b> </br>\n",
        "Chúng ta sẽ thu thập số liệu các công ty đó và <b>đánh giá yếu tố </b> nào đánh giá một công ty, tập đoàn lớn mạnh.</br>\n"
      ]
    },
    {
      "cell_type": "markdown",
      "metadata": {
        "id": "DDcoLZdWvKlB"
      },
      "source": [
        "### Tạo project scrapy"
      ]
    },
    {
      "cell_type": "code",
      "execution_count": null,
      "metadata": {
        "colab": {
          "base_uri": "https://localhost:8080/"
        },
        "id": "lsdinDKQtoD6",
        "outputId": "e43ce80b-27ad-444e-e218-66d0c6717d17"
      },
      "outputs": [
        {
          "name": "stdout",
          "output_type": "stream",
          "text": [
            "New Scrapy project 'fobes_companies_crawler', using template directory '/usr/local/lib/python3.10/dist-packages/scrapy/templates/project', created in:\n",
            "    /content/fobes_companies_crawler\n",
            "\n",
            "You can start your first spider with:\n",
            "    cd fobes_companies_crawler\n",
            "    scrapy genspider example example.com\n"
          ]
        }
      ],
      "source": [
        "!scrapy startproject fobes_companies_crawler"
      ]
    },
    {
      "cell_type": "code",
      "execution_count": null,
      "metadata": {
        "colab": {
          "base_uri": "https://localhost:8080/"
        },
        "id": "l8VqrwGAEfpc",
        "outputId": "e3a2cbf8-41e0-4895-8d92-97aa9161157b"
      },
      "outputs": [
        {
          "name": "stdout",
          "output_type": "stream",
          "text": [
            "/content/fobes_companies_crawler/fobes_companies_crawler/spiders\n"
          ]
        }
      ],
      "source": [
        "cd /content/fobes_companies_crawler/fobes_companies_crawler/spiders"
      ]
    },
    {
      "cell_type": "markdown",
      "metadata": {
        "id": "I52n8nlivgv4"
      },
      "source": [
        "## Thu thập dữ liệu\n",
        "Chúng ta sẽ tạo file .py cần thiết và tiến hành thu thập dữ liệu</br>\n",
        "Dữ liệu chúng ta thu thập ở https://www.forbes.com/lists/global2000 đây là một trang báo tương đối uy tín rất đáng tin cậy."
      ]
    },
    {
      "cell_type": "code",
      "execution_count": null,
      "metadata": {
        "id": "CLaRLl0IEfwz"
      },
      "outputs": [],
      "source": [
        "!scrapy crawl get_company -O dataset/get_company.json"
      ]
    },
    {
      "cell_type": "markdown",
      "metadata": {
        "id": "9lzBZSDXwl90"
      },
      "source": [
        "## Tiền xử lý dữ liệu\n",
        "Sau khi đã có dữ liệu ta tiến hành chuyển thành dataframe để dễ dàng xử lý."
      ]
    },
    {
      "cell_type": "code",
      "execution_count": 7,
      "metadata": {
        "id": "t_GnVgWLzCN9"
      },
      "outputs": [],
      "source": [
        "df_company = pd.read_json(\"/content/get_company.json\")"
      ]
    },
    {
      "cell_type": "markdown",
      "metadata": {
        "id": "DRidNdAGf2_n"
      },
      "source": [
        "Kiểm tra dữ liệu có mấy `hàng` mấy `cột`"
      ]
    },
    {
      "cell_type": "code",
      "execution_count": 8,
      "metadata": {
        "colab": {
          "base_uri": "https://localhost:8080/"
        },
        "id": "YjyQFfmcfowR",
        "outputId": "a49eb589-f0de-4b1b-b857-ff130f283e2f"
      },
      "outputs": [
        {
          "data": {
            "text/plain": [
              "(2000, 7)"
            ]
          },
          "execution_count": 8,
          "metadata": {},
          "output_type": "execute_result"
        }
      ],
      "source": [
        "df_company.shape"
      ]
    },
    {
      "cell_type": "markdown",
      "metadata": {
        "id": "1hEwA4AChx1y"
      },
      "source": [
        "Show `dữ liệu` top 10 để xem trước dữ liệu có vấn đề gì không."
      ]
    },
    {
      "cell_type": "code",
      "execution_count": 9,
      "metadata": {
        "colab": {
          "base_uri": "https://localhost:8080/",
          "height": 363
        },
        "id": "wpLUm3qn5utl",
        "outputId": "5c4e34af-c247-4bb0-b840-d75bf0b155d7"
      },
      "outputs": [
        {
          "data": {
            "text/html": [
              "\n",
              "  <div id=\"df-77c52691-82a1-4305-94db-83ebb03724d0\">\n",
              "    <div class=\"colab-df-container\">\n",
              "      <div>\n",
              "<style scoped>\n",
              "    .dataframe tbody tr th:only-of-type {\n",
              "        vertical-align: middle;\n",
              "    }\n",
              "\n",
              "    .dataframe tbody tr th {\n",
              "        vertical-align: top;\n",
              "    }\n",
              "\n",
              "    .dataframe thead th {\n",
              "        text-align: right;\n",
              "    }\n",
              "</style>\n",
              "<table border=\"1\" class=\"dataframe\">\n",
              "  <thead>\n",
              "    <tr style=\"text-align: right;\">\n",
              "      <th></th>\n",
              "      <th>Rank</th>\n",
              "      <th>Name</th>\n",
              "      <th>Country</th>\n",
              "      <th>Sales</th>\n",
              "      <th>Profits</th>\n",
              "      <th>Assets</th>\n",
              "      <th>Market value</th>\n",
              "    </tr>\n",
              "  </thead>\n",
              "  <tbody>\n",
              "    <tr>\n",
              "      <th>0</th>\n",
              "      <td>1</td>\n",
              "      <td>Berkshire Hathaway</td>\n",
              "      <td>United States</td>\n",
              "      <td>$276.09 B</td>\n",
              "      <td>$89.8 B</td>\n",
              "      <td>$958.78 B</td>\n",
              "      <td>$741.48 B</td>\n",
              "    </tr>\n",
              "    <tr>\n",
              "      <th>1</th>\n",
              "      <td>2</td>\n",
              "      <td>ICBC</td>\n",
              "      <td>China</td>\n",
              "      <td>$208.13 B</td>\n",
              "      <td>$54.03 B</td>\n",
              "      <td>$5,518.51 B</td>\n",
              "      <td>$214.43 B</td>\n",
              "    </tr>\n",
              "    <tr>\n",
              "      <th>2</th>\n",
              "      <td>3</td>\n",
              "      <td>Saudi Arabian Oil Company (Saudi Aramco)</td>\n",
              "      <td>Saudi Arabia</td>\n",
              "      <td>$400.38 B</td>\n",
              "      <td>$105.36 B</td>\n",
              "      <td>$576.04 B</td>\n",
              "      <td>$2,292.08 B</td>\n",
              "    </tr>\n",
              "    <tr>\n",
              "      <th>3</th>\n",
              "      <td>4</td>\n",
              "      <td>JPMorgan Chase</td>\n",
              "      <td>United States</td>\n",
              "      <td>$124.54 B</td>\n",
              "      <td>$42.12 B</td>\n",
              "      <td>$3,954.69 B</td>\n",
              "      <td>$374.45 B</td>\n",
              "    </tr>\n",
              "    <tr>\n",
              "      <th>4</th>\n",
              "      <td>5</td>\n",
              "      <td>China Construction Bank</td>\n",
              "      <td>China</td>\n",
              "      <td>$202.07 B</td>\n",
              "      <td>$46.89 B</td>\n",
              "      <td>$4,746.95 B</td>\n",
              "      <td>$181.32 B</td>\n",
              "    </tr>\n",
              "    <tr>\n",
              "      <th>5</th>\n",
              "      <td>6</td>\n",
              "      <td>Amazon</td>\n",
              "      <td>United States</td>\n",
              "      <td>$469.82 B</td>\n",
              "      <td>$33.36 B</td>\n",
              "      <td>$420.55 B</td>\n",
              "      <td>$1,468.4 B</td>\n",
              "    </tr>\n",
              "    <tr>\n",
              "      <th>6</th>\n",
              "      <td>7</td>\n",
              "      <td>Apple</td>\n",
              "      <td>United States</td>\n",
              "      <td>$378.7 B</td>\n",
              "      <td>$100.56 B</td>\n",
              "      <td>$381.19 B</td>\n",
              "      <td>$2,640.32 B</td>\n",
              "    </tr>\n",
              "    <tr>\n",
              "      <th>7</th>\n",
              "      <td>8</td>\n",
              "      <td>Agricultural Bank of China</td>\n",
              "      <td>China</td>\n",
              "      <td>$181.42 B</td>\n",
              "      <td>$37.38 B</td>\n",
              "      <td>$4,561.05 B</td>\n",
              "      <td>$133.38 B</td>\n",
              "    </tr>\n",
              "    <tr>\n",
              "      <th>8</th>\n",
              "      <td>9</td>\n",
              "      <td>Bank of America</td>\n",
              "      <td>United States</td>\n",
              "      <td>$96.83 B</td>\n",
              "      <td>$31 B</td>\n",
              "      <td>$3,238.22 B</td>\n",
              "      <td>$303.1 B</td>\n",
              "    </tr>\n",
              "    <tr>\n",
              "      <th>9</th>\n",
              "      <td>10</td>\n",
              "      <td>Toyota Motor</td>\n",
              "      <td>Japan</td>\n",
              "      <td>$281.75 B</td>\n",
              "      <td>$28.15 B</td>\n",
              "      <td>$552.46 B</td>\n",
              "      <td>$237.73 B</td>\n",
              "    </tr>\n",
              "  </tbody>\n",
              "</table>\n",
              "</div>\n",
              "      <button class=\"colab-df-convert\" onclick=\"convertToInteractive('df-77c52691-82a1-4305-94db-83ebb03724d0')\"\n",
              "              title=\"Convert this dataframe to an interactive table.\"\n",
              "              style=\"display:none;\">\n",
              "        \n",
              "  <svg xmlns=\"http://www.w3.org/2000/svg\" height=\"24px\"viewBox=\"0 0 24 24\"\n",
              "       width=\"24px\">\n",
              "    <path d=\"M0 0h24v24H0V0z\" fill=\"none\"/>\n",
              "    <path d=\"M18.56 5.44l.94 2.06.94-2.06 2.06-.94-2.06-.94-.94-2.06-.94 2.06-2.06.94zm-11 1L8.5 8.5l.94-2.06 2.06-.94-2.06-.94L8.5 2.5l-.94 2.06-2.06.94zm10 10l.94 2.06.94-2.06 2.06-.94-2.06-.94-.94-2.06-.94 2.06-2.06.94z\"/><path d=\"M17.41 7.96l-1.37-1.37c-.4-.4-.92-.59-1.43-.59-.52 0-1.04.2-1.43.59L10.3 9.45l-7.72 7.72c-.78.78-.78 2.05 0 2.83L4 21.41c.39.39.9.59 1.41.59.51 0 1.02-.2 1.41-.59l7.78-7.78 2.81-2.81c.8-.78.8-2.07 0-2.86zM5.41 20L4 18.59l7.72-7.72 1.47 1.35L5.41 20z\"/>\n",
              "  </svg>\n",
              "      </button>\n",
              "      \n",
              "  <style>\n",
              "    .colab-df-container {\n",
              "      display:flex;\n",
              "      flex-wrap:wrap;\n",
              "      gap: 12px;\n",
              "    }\n",
              "\n",
              "    .colab-df-convert {\n",
              "      background-color: #E8F0FE;\n",
              "      border: none;\n",
              "      border-radius: 50%;\n",
              "      cursor: pointer;\n",
              "      display: none;\n",
              "      fill: #1967D2;\n",
              "      height: 32px;\n",
              "      padding: 0 0 0 0;\n",
              "      width: 32px;\n",
              "    }\n",
              "\n",
              "    .colab-df-convert:hover {\n",
              "      background-color: #E2EBFA;\n",
              "      box-shadow: 0px 1px 2px rgba(60, 64, 67, 0.3), 0px 1px 3px 1px rgba(60, 64, 67, 0.15);\n",
              "      fill: #174EA6;\n",
              "    }\n",
              "\n",
              "    [theme=dark] .colab-df-convert {\n",
              "      background-color: #3B4455;\n",
              "      fill: #D2E3FC;\n",
              "    }\n",
              "\n",
              "    [theme=dark] .colab-df-convert:hover {\n",
              "      background-color: #434B5C;\n",
              "      box-shadow: 0px 1px 3px 1px rgba(0, 0, 0, 0.15);\n",
              "      filter: drop-shadow(0px 1px 2px rgba(0, 0, 0, 0.3));\n",
              "      fill: #FFFFFF;\n",
              "    }\n",
              "  </style>\n",
              "\n",
              "      <script>\n",
              "        const buttonEl =\n",
              "          document.querySelector('#df-77c52691-82a1-4305-94db-83ebb03724d0 button.colab-df-convert');\n",
              "        buttonEl.style.display =\n",
              "          google.colab.kernel.accessAllowed ? 'block' : 'none';\n",
              "\n",
              "        async function convertToInteractive(key) {\n",
              "          const element = document.querySelector('#df-77c52691-82a1-4305-94db-83ebb03724d0');\n",
              "          const dataTable =\n",
              "            await google.colab.kernel.invokeFunction('convertToInteractive',\n",
              "                                                     [key], {});\n",
              "          if (!dataTable) return;\n",
              "\n",
              "          const docLinkHtml = 'Like what you see? Visit the ' +\n",
              "            '<a target=\"_blank\" href=https://colab.research.google.com/notebooks/data_table.ipynb>data table notebook</a>'\n",
              "            + ' to learn more about interactive tables.';\n",
              "          element.innerHTML = '';\n",
              "          dataTable['output_type'] = 'display_data';\n",
              "          await google.colab.output.renderOutput(dataTable, element);\n",
              "          const docLink = document.createElement('div');\n",
              "          docLink.innerHTML = docLinkHtml;\n",
              "          element.appendChild(docLink);\n",
              "        }\n",
              "      </script>\n",
              "    </div>\n",
              "  </div>\n",
              "  "
            ],
            "text/plain": [
              "   Rank                                      Name        Country      Sales  \\\n",
              "0     1                        Berkshire Hathaway  United States  $276.09 B   \n",
              "1     2                                      ICBC          China  $208.13 B   \n",
              "2     3  Saudi Arabian Oil Company (Saudi Aramco)   Saudi Arabia  $400.38 B   \n",
              "3     4                            JPMorgan Chase  United States  $124.54 B   \n",
              "4     5                   China Construction Bank          China  $202.07 B   \n",
              "5     6                                    Amazon  United States  $469.82 B   \n",
              "6     7                                     Apple  United States   $378.7 B   \n",
              "7     8                Agricultural Bank of China          China  $181.42 B   \n",
              "8     9                           Bank of America  United States   $96.83 B   \n",
              "9    10                              Toyota Motor          Japan  $281.75 B   \n",
              "\n",
              "     Profits       Assets Market value  \n",
              "0    $89.8 B    $958.78 B    $741.48 B  \n",
              "1   $54.03 B  $5,518.51 B    $214.43 B  \n",
              "2  $105.36 B    $576.04 B  $2,292.08 B  \n",
              "3   $42.12 B  $3,954.69 B    $374.45 B  \n",
              "4   $46.89 B  $4,746.95 B    $181.32 B  \n",
              "5   $33.36 B    $420.55 B   $1,468.4 B  \n",
              "6  $100.56 B    $381.19 B  $2,640.32 B  \n",
              "7   $37.38 B  $4,561.05 B    $133.38 B  \n",
              "8      $31 B  $3,238.22 B     $303.1 B  \n",
              "9   $28.15 B    $552.46 B    $237.73 B  "
            ]
          },
          "execution_count": 9,
          "metadata": {},
          "output_type": "execute_result"
        }
      ],
      "source": [
        "df_company.head(10)"
      ]
    },
    {
      "cell_type": "markdown",
      "metadata": {
        "id": "niQO0nYnvucV"
      },
      "source": [
        "\n",
        "\n",
        "\n",
        "#### Set Index\n",
        "Trước tiên ta để cột `Rank` trở thành index của `df_company`\n",
        "\n"
      ]
    },
    {
      "cell_type": "code",
      "execution_count": 10,
      "metadata": {
        "colab": {
          "base_uri": "https://localhost:8080/",
          "height": 238
        },
        "id": "iCk5efPUvbUc",
        "outputId": "a2b62421-21f6-43fe-881b-a7ed8479c387"
      },
      "outputs": [
        {
          "data": {
            "text/html": [
              "\n",
              "  <div id=\"df-53a61a17-f38a-40bc-805a-560c862d4a5c\">\n",
              "    <div class=\"colab-df-container\">\n",
              "      <div>\n",
              "<style scoped>\n",
              "    .dataframe tbody tr th:only-of-type {\n",
              "        vertical-align: middle;\n",
              "    }\n",
              "\n",
              "    .dataframe tbody tr th {\n",
              "        vertical-align: top;\n",
              "    }\n",
              "\n",
              "    .dataframe thead th {\n",
              "        text-align: right;\n",
              "    }\n",
              "</style>\n",
              "<table border=\"1\" class=\"dataframe\">\n",
              "  <thead>\n",
              "    <tr style=\"text-align: right;\">\n",
              "      <th></th>\n",
              "      <th>Name</th>\n",
              "      <th>Country</th>\n",
              "      <th>Sales</th>\n",
              "      <th>Profits</th>\n",
              "      <th>Assets</th>\n",
              "      <th>Market value</th>\n",
              "    </tr>\n",
              "    <tr>\n",
              "      <th>Rank</th>\n",
              "      <th></th>\n",
              "      <th></th>\n",
              "      <th></th>\n",
              "      <th></th>\n",
              "      <th></th>\n",
              "      <th></th>\n",
              "    </tr>\n",
              "  </thead>\n",
              "  <tbody>\n",
              "    <tr>\n",
              "      <th>1</th>\n",
              "      <td>Berkshire Hathaway</td>\n",
              "      <td>United States</td>\n",
              "      <td>$276.09 B</td>\n",
              "      <td>$89.8 B</td>\n",
              "      <td>$958.78 B</td>\n",
              "      <td>$741.48 B</td>\n",
              "    </tr>\n",
              "    <tr>\n",
              "      <th>2</th>\n",
              "      <td>ICBC</td>\n",
              "      <td>China</td>\n",
              "      <td>$208.13 B</td>\n",
              "      <td>$54.03 B</td>\n",
              "      <td>$5,518.51 B</td>\n",
              "      <td>$214.43 B</td>\n",
              "    </tr>\n",
              "    <tr>\n",
              "      <th>3</th>\n",
              "      <td>Saudi Arabian Oil Company (Saudi Aramco)</td>\n",
              "      <td>Saudi Arabia</td>\n",
              "      <td>$400.38 B</td>\n",
              "      <td>$105.36 B</td>\n",
              "      <td>$576.04 B</td>\n",
              "      <td>$2,292.08 B</td>\n",
              "    </tr>\n",
              "    <tr>\n",
              "      <th>4</th>\n",
              "      <td>JPMorgan Chase</td>\n",
              "      <td>United States</td>\n",
              "      <td>$124.54 B</td>\n",
              "      <td>$42.12 B</td>\n",
              "      <td>$3,954.69 B</td>\n",
              "      <td>$374.45 B</td>\n",
              "    </tr>\n",
              "    <tr>\n",
              "      <th>5</th>\n",
              "      <td>China Construction Bank</td>\n",
              "      <td>China</td>\n",
              "      <td>$202.07 B</td>\n",
              "      <td>$46.89 B</td>\n",
              "      <td>$4,746.95 B</td>\n",
              "      <td>$181.32 B</td>\n",
              "    </tr>\n",
              "  </tbody>\n",
              "</table>\n",
              "</div>\n",
              "      <button class=\"colab-df-convert\" onclick=\"convertToInteractive('df-53a61a17-f38a-40bc-805a-560c862d4a5c')\"\n",
              "              title=\"Convert this dataframe to an interactive table.\"\n",
              "              style=\"display:none;\">\n",
              "        \n",
              "  <svg xmlns=\"http://www.w3.org/2000/svg\" height=\"24px\"viewBox=\"0 0 24 24\"\n",
              "       width=\"24px\">\n",
              "    <path d=\"M0 0h24v24H0V0z\" fill=\"none\"/>\n",
              "    <path d=\"M18.56 5.44l.94 2.06.94-2.06 2.06-.94-2.06-.94-.94-2.06-.94 2.06-2.06.94zm-11 1L8.5 8.5l.94-2.06 2.06-.94-2.06-.94L8.5 2.5l-.94 2.06-2.06.94zm10 10l.94 2.06.94-2.06 2.06-.94-2.06-.94-.94-2.06-.94 2.06-2.06.94z\"/><path d=\"M17.41 7.96l-1.37-1.37c-.4-.4-.92-.59-1.43-.59-.52 0-1.04.2-1.43.59L10.3 9.45l-7.72 7.72c-.78.78-.78 2.05 0 2.83L4 21.41c.39.39.9.59 1.41.59.51 0 1.02-.2 1.41-.59l7.78-7.78 2.81-2.81c.8-.78.8-2.07 0-2.86zM5.41 20L4 18.59l7.72-7.72 1.47 1.35L5.41 20z\"/>\n",
              "  </svg>\n",
              "      </button>\n",
              "      \n",
              "  <style>\n",
              "    .colab-df-container {\n",
              "      display:flex;\n",
              "      flex-wrap:wrap;\n",
              "      gap: 12px;\n",
              "    }\n",
              "\n",
              "    .colab-df-convert {\n",
              "      background-color: #E8F0FE;\n",
              "      border: none;\n",
              "      border-radius: 50%;\n",
              "      cursor: pointer;\n",
              "      display: none;\n",
              "      fill: #1967D2;\n",
              "      height: 32px;\n",
              "      padding: 0 0 0 0;\n",
              "      width: 32px;\n",
              "    }\n",
              "\n",
              "    .colab-df-convert:hover {\n",
              "      background-color: #E2EBFA;\n",
              "      box-shadow: 0px 1px 2px rgba(60, 64, 67, 0.3), 0px 1px 3px 1px rgba(60, 64, 67, 0.15);\n",
              "      fill: #174EA6;\n",
              "    }\n",
              "\n",
              "    [theme=dark] .colab-df-convert {\n",
              "      background-color: #3B4455;\n",
              "      fill: #D2E3FC;\n",
              "    }\n",
              "\n",
              "    [theme=dark] .colab-df-convert:hover {\n",
              "      background-color: #434B5C;\n",
              "      box-shadow: 0px 1px 3px 1px rgba(0, 0, 0, 0.15);\n",
              "      filter: drop-shadow(0px 1px 2px rgba(0, 0, 0, 0.3));\n",
              "      fill: #FFFFFF;\n",
              "    }\n",
              "  </style>\n",
              "\n",
              "      <script>\n",
              "        const buttonEl =\n",
              "          document.querySelector('#df-53a61a17-f38a-40bc-805a-560c862d4a5c button.colab-df-convert');\n",
              "        buttonEl.style.display =\n",
              "          google.colab.kernel.accessAllowed ? 'block' : 'none';\n",
              "\n",
              "        async function convertToInteractive(key) {\n",
              "          const element = document.querySelector('#df-53a61a17-f38a-40bc-805a-560c862d4a5c');\n",
              "          const dataTable =\n",
              "            await google.colab.kernel.invokeFunction('convertToInteractive',\n",
              "                                                     [key], {});\n",
              "          if (!dataTable) return;\n",
              "\n",
              "          const docLinkHtml = 'Like what you see? Visit the ' +\n",
              "            '<a target=\"_blank\" href=https://colab.research.google.com/notebooks/data_table.ipynb>data table notebook</a>'\n",
              "            + ' to learn more about interactive tables.';\n",
              "          element.innerHTML = '';\n",
              "          dataTable['output_type'] = 'display_data';\n",
              "          await google.colab.output.renderOutput(dataTable, element);\n",
              "          const docLink = document.createElement('div');\n",
              "          docLink.innerHTML = docLinkHtml;\n",
              "          element.appendChild(docLink);\n",
              "        }\n",
              "      </script>\n",
              "    </div>\n",
              "  </div>\n",
              "  "
            ],
            "text/plain": [
              "                                          Name        Country      Sales  \\\n",
              "Rank                                                                       \n",
              "1                           Berkshire Hathaway  United States  $276.09 B   \n",
              "2                                         ICBC          China  $208.13 B   \n",
              "3     Saudi Arabian Oil Company (Saudi Aramco)   Saudi Arabia  $400.38 B   \n",
              "4                               JPMorgan Chase  United States  $124.54 B   \n",
              "5                      China Construction Bank          China  $202.07 B   \n",
              "\n",
              "        Profits       Assets Market value  \n",
              "Rank                                       \n",
              "1       $89.8 B    $958.78 B    $741.48 B  \n",
              "2      $54.03 B  $5,518.51 B    $214.43 B  \n",
              "3     $105.36 B    $576.04 B  $2,292.08 B  \n",
              "4      $42.12 B  $3,954.69 B    $374.45 B  \n",
              "5      $46.89 B  $4,746.95 B    $181.32 B  "
            ]
          },
          "execution_count": 10,
          "metadata": {},
          "output_type": "execute_result"
        }
      ],
      "source": [
        "df_company = df_company.set_index(\"Rank\")\n",
        "df_company.head()"
      ]
    },
    {
      "cell_type": "markdown",
      "metadata": {
        "id": "2nqydO73x_vR"
      },
      "source": [
        "#### Ý nghĩa từng cột trong DataFrame\n",
        "- Theo dữ liệu năm 2022\n",
        "  - Cột `Rank` : Thứ hạng của các công ty\n",
        "  - Cột `Name` : Tên của các công ty\n",
        "  - Cột `Revenue` : Doanh thu của các công ty trong năm\n",
        "  - Cột `Assets` : Tổng tài sản của các công ty \n",
        "  - Cột `Profits` : Lợi nhuận của các công ty trong năm\n",
        "  - Cột `Market Value` : Giá trị Cng ty đạt được theo định giá trị thị trường (thông qua cổ phiếu)"
      ]
    },
    {
      "cell_type": "markdown",
      "metadata": {
        "id": "vTTtfPCZ0LFD"
      },
      "source": [
        "#### Ý nghĩa của dòng \n",
        "- Mỗi 1 dòng trong DataFrame thể hiện <b>doanh thu, tổng tài sản, lợi nhuận, giá trị thị trường</b> trong năm đang xét của một công ty.\n",
        "- Với giá trị đang xét thông thường sẽ là $B$ (tỉ đô-la), nhưng vẫn có trường đạt $T$( nghìn tỉ đô) và cũng có trường đạt $M$ ( Triệu đô), vì vậy ta cần chuẩn hoá về 1 giá trị ( ta chuẩn hoá về $B$)"
      ]
    },
    {
      "cell_type": "markdown",
      "metadata": {
        "id": "5Twqs6tymb6X"
      },
      "source": [
        "Tiếp tục xử lý các giá trị như đã nói ở trên"
      ]
    },
    {
      "cell_type": "code",
      "execution_count": 11,
      "metadata": {
        "id": "0EMhEVbwmSh8"
      },
      "outputs": [],
      "source": [
        "\n",
        "def transform_cost(value):\n",
        "    data = value.replace(\",\",\"\")\n",
        "    if data[-1] == 'M':  # Triệu chia 1000\n",
        "      return np.float64(data[1:-2])/1000\n",
        "    elif data[-1] == 'T': # Nghìn tỷ nhân 1000\n",
        "      return np.float64(data[1:-2])*1000\n",
        "    elif data[-1] == 'B':\n",
        "      return np.float64(data[1:-2])\n",
        "    return None\n"
      ]
    },
    {
      "cell_type": "code",
      "execution_count": 12,
      "metadata": {
        "id": "PCh9jEBCpEpH"
      },
      "outputs": [],
      "source": [
        "df_company[\"Sales\"] = df_company[\"Sales\"].apply(transform_cost)\n",
        "df_company[\"Profits\"] = df_company[\"Profits\"].apply(transform_cost)\n",
        "df_company[\"Assets\"] = df_company[\"Assets\"].apply(transform_cost)\n",
        "df_company[\"Market value\"] = df_company[\"Market value\"].apply(transform_cost)"
      ]
    },
    {
      "cell_type": "markdown",
      "metadata": {
        "id": "hVkHoivpmG3A"
      },
      "source": [
        "Đổi tên cột theo phương thức đã nói ở trên"
      ]
    },
    {
      "cell_type": "code",
      "execution_count": 13,
      "metadata": {
        "id": "Wr8QO7-8kfYC"
      },
      "outputs": [],
      "source": [
        "df_company.rename(columns = {'Sales':'Sales (B$)', 'Profits':'Profits (B$)','Assets' : 'Assets (B$)' , 'Market value' : 'Market value (B$)'}, inplace = True)"
      ]
    },
    {
      "cell_type": "code",
      "execution_count": 14,
      "metadata": {
        "colab": {
          "base_uri": "https://localhost:8080/",
          "height": 238
        },
        "id": "Uu1htywgS7wW",
        "outputId": "a2c3f688-45e7-42cf-933d-367f71249a52"
      },
      "outputs": [
        {
          "data": {
            "text/html": [
              "\n",
              "  <div id=\"df-798fd387-95e4-4643-8c6a-e5127ea2fc38\">\n",
              "    <div class=\"colab-df-container\">\n",
              "      <div>\n",
              "<style scoped>\n",
              "    .dataframe tbody tr th:only-of-type {\n",
              "        vertical-align: middle;\n",
              "    }\n",
              "\n",
              "    .dataframe tbody tr th {\n",
              "        vertical-align: top;\n",
              "    }\n",
              "\n",
              "    .dataframe thead th {\n",
              "        text-align: right;\n",
              "    }\n",
              "</style>\n",
              "<table border=\"1\" class=\"dataframe\">\n",
              "  <thead>\n",
              "    <tr style=\"text-align: right;\">\n",
              "      <th></th>\n",
              "      <th>Name</th>\n",
              "      <th>Country</th>\n",
              "      <th>Sales (B$)</th>\n",
              "      <th>Profits (B$)</th>\n",
              "      <th>Assets (B$)</th>\n",
              "      <th>Market value (B$)</th>\n",
              "    </tr>\n",
              "    <tr>\n",
              "      <th>Rank</th>\n",
              "      <th></th>\n",
              "      <th></th>\n",
              "      <th></th>\n",
              "      <th></th>\n",
              "      <th></th>\n",
              "      <th></th>\n",
              "    </tr>\n",
              "  </thead>\n",
              "  <tbody>\n",
              "    <tr>\n",
              "      <th>1</th>\n",
              "      <td>Berkshire Hathaway</td>\n",
              "      <td>United States</td>\n",
              "      <td>276.09</td>\n",
              "      <td>89.80</td>\n",
              "      <td>958.78</td>\n",
              "      <td>741.48</td>\n",
              "    </tr>\n",
              "    <tr>\n",
              "      <th>2</th>\n",
              "      <td>ICBC</td>\n",
              "      <td>China</td>\n",
              "      <td>208.13</td>\n",
              "      <td>54.03</td>\n",
              "      <td>5518.51</td>\n",
              "      <td>214.43</td>\n",
              "    </tr>\n",
              "    <tr>\n",
              "      <th>3</th>\n",
              "      <td>Saudi Arabian Oil Company (Saudi Aramco)</td>\n",
              "      <td>Saudi Arabia</td>\n",
              "      <td>400.38</td>\n",
              "      <td>105.36</td>\n",
              "      <td>576.04</td>\n",
              "      <td>2292.08</td>\n",
              "    </tr>\n",
              "    <tr>\n",
              "      <th>4</th>\n",
              "      <td>JPMorgan Chase</td>\n",
              "      <td>United States</td>\n",
              "      <td>124.54</td>\n",
              "      <td>42.12</td>\n",
              "      <td>3954.69</td>\n",
              "      <td>374.45</td>\n",
              "    </tr>\n",
              "    <tr>\n",
              "      <th>5</th>\n",
              "      <td>China Construction Bank</td>\n",
              "      <td>China</td>\n",
              "      <td>202.07</td>\n",
              "      <td>46.89</td>\n",
              "      <td>4746.95</td>\n",
              "      <td>181.32</td>\n",
              "    </tr>\n",
              "  </tbody>\n",
              "</table>\n",
              "</div>\n",
              "      <button class=\"colab-df-convert\" onclick=\"convertToInteractive('df-798fd387-95e4-4643-8c6a-e5127ea2fc38')\"\n",
              "              title=\"Convert this dataframe to an interactive table.\"\n",
              "              style=\"display:none;\">\n",
              "        \n",
              "  <svg xmlns=\"http://www.w3.org/2000/svg\" height=\"24px\"viewBox=\"0 0 24 24\"\n",
              "       width=\"24px\">\n",
              "    <path d=\"M0 0h24v24H0V0z\" fill=\"none\"/>\n",
              "    <path d=\"M18.56 5.44l.94 2.06.94-2.06 2.06-.94-2.06-.94-.94-2.06-.94 2.06-2.06.94zm-11 1L8.5 8.5l.94-2.06 2.06-.94-2.06-.94L8.5 2.5l-.94 2.06-2.06.94zm10 10l.94 2.06.94-2.06 2.06-.94-2.06-.94-.94-2.06-.94 2.06-2.06.94z\"/><path d=\"M17.41 7.96l-1.37-1.37c-.4-.4-.92-.59-1.43-.59-.52 0-1.04.2-1.43.59L10.3 9.45l-7.72 7.72c-.78.78-.78 2.05 0 2.83L4 21.41c.39.39.9.59 1.41.59.51 0 1.02-.2 1.41-.59l7.78-7.78 2.81-2.81c.8-.78.8-2.07 0-2.86zM5.41 20L4 18.59l7.72-7.72 1.47 1.35L5.41 20z\"/>\n",
              "  </svg>\n",
              "      </button>\n",
              "      \n",
              "  <style>\n",
              "    .colab-df-container {\n",
              "      display:flex;\n",
              "      flex-wrap:wrap;\n",
              "      gap: 12px;\n",
              "    }\n",
              "\n",
              "    .colab-df-convert {\n",
              "      background-color: #E8F0FE;\n",
              "      border: none;\n",
              "      border-radius: 50%;\n",
              "      cursor: pointer;\n",
              "      display: none;\n",
              "      fill: #1967D2;\n",
              "      height: 32px;\n",
              "      padding: 0 0 0 0;\n",
              "      width: 32px;\n",
              "    }\n",
              "\n",
              "    .colab-df-convert:hover {\n",
              "      background-color: #E2EBFA;\n",
              "      box-shadow: 0px 1px 2px rgba(60, 64, 67, 0.3), 0px 1px 3px 1px rgba(60, 64, 67, 0.15);\n",
              "      fill: #174EA6;\n",
              "    }\n",
              "\n",
              "    [theme=dark] .colab-df-convert {\n",
              "      background-color: #3B4455;\n",
              "      fill: #D2E3FC;\n",
              "    }\n",
              "\n",
              "    [theme=dark] .colab-df-convert:hover {\n",
              "      background-color: #434B5C;\n",
              "      box-shadow: 0px 1px 3px 1px rgba(0, 0, 0, 0.15);\n",
              "      filter: drop-shadow(0px 1px 2px rgba(0, 0, 0, 0.3));\n",
              "      fill: #FFFFFF;\n",
              "    }\n",
              "  </style>\n",
              "\n",
              "      <script>\n",
              "        const buttonEl =\n",
              "          document.querySelector('#df-798fd387-95e4-4643-8c6a-e5127ea2fc38 button.colab-df-convert');\n",
              "        buttonEl.style.display =\n",
              "          google.colab.kernel.accessAllowed ? 'block' : 'none';\n",
              "\n",
              "        async function convertToInteractive(key) {\n",
              "          const element = document.querySelector('#df-798fd387-95e4-4643-8c6a-e5127ea2fc38');\n",
              "          const dataTable =\n",
              "            await google.colab.kernel.invokeFunction('convertToInteractive',\n",
              "                                                     [key], {});\n",
              "          if (!dataTable) return;\n",
              "\n",
              "          const docLinkHtml = 'Like what you see? Visit the ' +\n",
              "            '<a target=\"_blank\" href=https://colab.research.google.com/notebooks/data_table.ipynb>data table notebook</a>'\n",
              "            + ' to learn more about interactive tables.';\n",
              "          element.innerHTML = '';\n",
              "          dataTable['output_type'] = 'display_data';\n",
              "          await google.colab.output.renderOutput(dataTable, element);\n",
              "          const docLink = document.createElement('div');\n",
              "          docLink.innerHTML = docLinkHtml;\n",
              "          element.appendChild(docLink);\n",
              "        }\n",
              "      </script>\n",
              "    </div>\n",
              "  </div>\n",
              "  "
            ],
            "text/plain": [
              "                                          Name        Country  Sales (B$)  \\\n",
              "Rank                                                                        \n",
              "1                           Berkshire Hathaway  United States      276.09   \n",
              "2                                         ICBC          China      208.13   \n",
              "3     Saudi Arabian Oil Company (Saudi Aramco)   Saudi Arabia      400.38   \n",
              "4                               JPMorgan Chase  United States      124.54   \n",
              "5                      China Construction Bank          China      202.07   \n",
              "\n",
              "      Profits (B$)  Assets (B$)  Market value (B$)  \n",
              "Rank                                                \n",
              "1            89.80       958.78             741.48  \n",
              "2            54.03      5518.51             214.43  \n",
              "3           105.36       576.04            2292.08  \n",
              "4            42.12      3954.69             374.45  \n",
              "5            46.89      4746.95             181.32  "
            ]
          },
          "execution_count": 14,
          "metadata": {},
          "output_type": "execute_result"
        }
      ],
      "source": [
        "df_company.head()"
      ]
    },
    {
      "cell_type": "markdown",
      "metadata": {
        "id": "aKfTsLsBFJcK"
      },
      "source": [
        "**Tổng quan dữ liệu**\n",
        "\n",
        "Ta xem tổng quan dữ liệu thử có đủ dữ liệu hay không, `xem thử giá trị trung bình, độ lệch chuẩn, giá trị nhỏ nhất, lớn nhất cũng như bộ tứ phân vị của dữ liệu`\n"
      ]
    },
    {
      "cell_type": "code",
      "execution_count": 15,
      "metadata": {
        "colab": {
          "base_uri": "https://localhost:8080/",
          "height": 300
        },
        "id": "-wuIOIqpE3mK",
        "outputId": "0ff9a640-ec75-43e1-859d-8fc53b852a62"
      },
      "outputs": [
        {
          "data": {
            "text/html": [
              "\n",
              "  <div id=\"df-fd28df7e-eb2a-45fa-8ef0-f2b5e2e8f6f4\">\n",
              "    <div class=\"colab-df-container\">\n",
              "      <div>\n",
              "<style scoped>\n",
              "    .dataframe tbody tr th:only-of-type {\n",
              "        vertical-align: middle;\n",
              "    }\n",
              "\n",
              "    .dataframe tbody tr th {\n",
              "        vertical-align: top;\n",
              "    }\n",
              "\n",
              "    .dataframe thead th {\n",
              "        text-align: right;\n",
              "    }\n",
              "</style>\n",
              "<table border=\"1\" class=\"dataframe\">\n",
              "  <thead>\n",
              "    <tr style=\"text-align: right;\">\n",
              "      <th></th>\n",
              "      <th>Sales (B$)</th>\n",
              "      <th>Profits (B$)</th>\n",
              "      <th>Assets (B$)</th>\n",
              "      <th>Market value (B$)</th>\n",
              "    </tr>\n",
              "  </thead>\n",
              "  <tbody>\n",
              "    <tr>\n",
              "      <th>count</th>\n",
              "      <td>2000.000000</td>\n",
              "      <td>2000.000000</td>\n",
              "      <td>2000.000000</td>\n",
              "      <td>2000.000000</td>\n",
              "    </tr>\n",
              "    <tr>\n",
              "      <th>mean</th>\n",
              "      <td>23.875905</td>\n",
              "      <td>2.502110</td>\n",
              "      <td>117.124169</td>\n",
              "      <td>38.252432</td>\n",
              "    </tr>\n",
              "    <tr>\n",
              "      <th>std</th>\n",
              "      <td>40.943971</td>\n",
              "      <td>6.159208</td>\n",
              "      <td>363.742939</td>\n",
              "      <td>117.204585</td>\n",
              "    </tr>\n",
              "    <tr>\n",
              "      <th>min</th>\n",
              "      <td>0.000000</td>\n",
              "      <td>-12.050000</td>\n",
              "      <td>0.166000</td>\n",
              "      <td>0.144000</td>\n",
              "    </tr>\n",
              "    <tr>\n",
              "      <th>25%</th>\n",
              "      <td>5.607500</td>\n",
              "      <td>0.590000</td>\n",
              "      <td>14.797500</td>\n",
              "      <td>7.330000</td>\n",
              "    </tr>\n",
              "    <tr>\n",
              "      <th>50%</th>\n",
              "      <td>12.170000</td>\n",
              "      <td>1.055000</td>\n",
              "      <td>32.010000</td>\n",
              "      <td>16.645000</td>\n",
              "    </tr>\n",
              "    <tr>\n",
              "      <th>75%</th>\n",
              "      <td>23.725000</td>\n",
              "      <td>2.270000</td>\n",
              "      <td>77.870000</td>\n",
              "      <td>34.710000</td>\n",
              "    </tr>\n",
              "    <tr>\n",
              "      <th>max</th>\n",
              "      <td>572.750000</td>\n",
              "      <td>105.360000</td>\n",
              "      <td>5518.510000</td>\n",
              "      <td>2640.320000</td>\n",
              "    </tr>\n",
              "  </tbody>\n",
              "</table>\n",
              "</div>\n",
              "      <button class=\"colab-df-convert\" onclick=\"convertToInteractive('df-fd28df7e-eb2a-45fa-8ef0-f2b5e2e8f6f4')\"\n",
              "              title=\"Convert this dataframe to an interactive table.\"\n",
              "              style=\"display:none;\">\n",
              "        \n",
              "  <svg xmlns=\"http://www.w3.org/2000/svg\" height=\"24px\"viewBox=\"0 0 24 24\"\n",
              "       width=\"24px\">\n",
              "    <path d=\"M0 0h24v24H0V0z\" fill=\"none\"/>\n",
              "    <path d=\"M18.56 5.44l.94 2.06.94-2.06 2.06-.94-2.06-.94-.94-2.06-.94 2.06-2.06.94zm-11 1L8.5 8.5l.94-2.06 2.06-.94-2.06-.94L8.5 2.5l-.94 2.06-2.06.94zm10 10l.94 2.06.94-2.06 2.06-.94-2.06-.94-.94-2.06-.94 2.06-2.06.94z\"/><path d=\"M17.41 7.96l-1.37-1.37c-.4-.4-.92-.59-1.43-.59-.52 0-1.04.2-1.43.59L10.3 9.45l-7.72 7.72c-.78.78-.78 2.05 0 2.83L4 21.41c.39.39.9.59 1.41.59.51 0 1.02-.2 1.41-.59l7.78-7.78 2.81-2.81c.8-.78.8-2.07 0-2.86zM5.41 20L4 18.59l7.72-7.72 1.47 1.35L5.41 20z\"/>\n",
              "  </svg>\n",
              "      </button>\n",
              "      \n",
              "  <style>\n",
              "    .colab-df-container {\n",
              "      display:flex;\n",
              "      flex-wrap:wrap;\n",
              "      gap: 12px;\n",
              "    }\n",
              "\n",
              "    .colab-df-convert {\n",
              "      background-color: #E8F0FE;\n",
              "      border: none;\n",
              "      border-radius: 50%;\n",
              "      cursor: pointer;\n",
              "      display: none;\n",
              "      fill: #1967D2;\n",
              "      height: 32px;\n",
              "      padding: 0 0 0 0;\n",
              "      width: 32px;\n",
              "    }\n",
              "\n",
              "    .colab-df-convert:hover {\n",
              "      background-color: #E2EBFA;\n",
              "      box-shadow: 0px 1px 2px rgba(60, 64, 67, 0.3), 0px 1px 3px 1px rgba(60, 64, 67, 0.15);\n",
              "      fill: #174EA6;\n",
              "    }\n",
              "\n",
              "    [theme=dark] .colab-df-convert {\n",
              "      background-color: #3B4455;\n",
              "      fill: #D2E3FC;\n",
              "    }\n",
              "\n",
              "    [theme=dark] .colab-df-convert:hover {\n",
              "      background-color: #434B5C;\n",
              "      box-shadow: 0px 1px 3px 1px rgba(0, 0, 0, 0.15);\n",
              "      filter: drop-shadow(0px 1px 2px rgba(0, 0, 0, 0.3));\n",
              "      fill: #FFFFFF;\n",
              "    }\n",
              "  </style>\n",
              "\n",
              "      <script>\n",
              "        const buttonEl =\n",
              "          document.querySelector('#df-fd28df7e-eb2a-45fa-8ef0-f2b5e2e8f6f4 button.colab-df-convert');\n",
              "        buttonEl.style.display =\n",
              "          google.colab.kernel.accessAllowed ? 'block' : 'none';\n",
              "\n",
              "        async function convertToInteractive(key) {\n",
              "          const element = document.querySelector('#df-fd28df7e-eb2a-45fa-8ef0-f2b5e2e8f6f4');\n",
              "          const dataTable =\n",
              "            await google.colab.kernel.invokeFunction('convertToInteractive',\n",
              "                                                     [key], {});\n",
              "          if (!dataTable) return;\n",
              "\n",
              "          const docLinkHtml = 'Like what you see? Visit the ' +\n",
              "            '<a target=\"_blank\" href=https://colab.research.google.com/notebooks/data_table.ipynb>data table notebook</a>'\n",
              "            + ' to learn more about interactive tables.';\n",
              "          element.innerHTML = '';\n",
              "          dataTable['output_type'] = 'display_data';\n",
              "          await google.colab.output.renderOutput(dataTable, element);\n",
              "          const docLink = document.createElement('div');\n",
              "          docLink.innerHTML = docLinkHtml;\n",
              "          element.appendChild(docLink);\n",
              "        }\n",
              "      </script>\n",
              "    </div>\n",
              "  </div>\n",
              "  "
            ],
            "text/plain": [
              "        Sales (B$)  Profits (B$)  Assets (B$)  Market value (B$)\n",
              "count  2000.000000   2000.000000  2000.000000        2000.000000\n",
              "mean     23.875905      2.502110   117.124169          38.252432\n",
              "std      40.943971      6.159208   363.742939         117.204585\n",
              "min       0.000000    -12.050000     0.166000           0.144000\n",
              "25%       5.607500      0.590000    14.797500           7.330000\n",
              "50%      12.170000      1.055000    32.010000          16.645000\n",
              "75%      23.725000      2.270000    77.870000          34.710000\n",
              "max     572.750000    105.360000  5518.510000        2640.320000"
            ]
          },
          "execution_count": 15,
          "metadata": {},
          "output_type": "execute_result"
        }
      ],
      "source": [
        "df_company.describe()# count = 2000"
      ]
    },
    {
      "cell_type": "markdown",
      "metadata": {
        "id": "vP436z05GPnt"
      },
      "source": [
        "Có vẻ dữ liệu của chúng ta đầy đủ (count = 2000)\n",
        "\n",
        "Tuy nhiên độ lệch của các công ty cũng khá lớn ✌"
      ]
    }
  ],
  "metadata": {
    "colab": {
      "provenance": []
    },
    "kernelspec": {
      "display_name": "Python 3",
      "name": "python3"
    },
    "language_info": {
      "name": "python"
    }
  },
  "nbformat": 4,
  "nbformat_minor": 0
}
